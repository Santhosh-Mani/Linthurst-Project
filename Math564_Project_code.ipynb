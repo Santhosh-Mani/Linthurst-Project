{
  "nbformat": 4,
  "nbformat_minor": 0,
  "metadata": {
    "colab": {
      "provenance": []
    },
    "kernelspec": {
      "name": "python3",
      "display_name": "Python 3"
    },
    "language_info": {
      "name": "python"
    }
  },
  "cells": [
    {
      "cell_type": "markdown",
      "source": [
        "Part A"
      ],
      "metadata": {
        "id": "t1k9dGRDedJG"
      }
    },
    {
      "cell_type": "code",
      "execution_count": 101,
      "metadata": {
        "id": "5N3-s034eE3H"
      },
      "outputs": [],
      "source": [
        "import pandas as pd\n",
        "import statsmodels.api as sm\n",
        "from statsmodels.stats.outliers_influence import variance_inflation_factor\n",
        "import numpy as np\n",
        "\n",
        "dataset = pd.read_csv('/content/LINTHALL.txt', delim_whitespace=True, header=None, names=['Index', 'Loc', 'Type', 'BIO', 'H2S', 'SAL', 'Eh7', 'pH', 'BUF', 'P', 'K', 'Ca', 'Mg', 'Na', 'Mn', 'Zn', 'Cu', 'NH4'])\n",
        "\n",
        "# Droping unnecessary columns\n",
        "dataset = dataset[['BIO', 'H2S', 'SAL', 'Eh7', 'pH', 'BUF', 'P', 'K', 'Ca', 'Mg', 'Na', 'Mn', 'Zn', 'Cu', 'NH4']]\n",
        "\n",
        "# Converting object data types to numeric type\n",
        "dataset[['BIO', 'H2S', 'SAL', 'Eh7', 'pH', 'BUF', 'P', 'K', 'Ca', 'Mg', 'Na', 'Mn', 'Zn', 'Cu', 'NH4']] = dataset[['BIO', 'H2S', 'SAL', 'Eh7', 'pH', 'BUF', 'P', 'K', 'Ca', 'Mg', 'Na', 'Mn', 'Zn', 'Cu', 'NH4']].apply(pd.to_numeric, errors='coerce')\n",
        "\n",
        "# Droping rows with missing values\n",
        "dataset = dataset.dropna()\n",
        "\n",
        "# Model Building\n",
        "X = dataset[['H2S', 'SAL', 'Eh7', 'pH', 'BUF', 'P', 'K', 'Ca', 'Mg', 'Na', 'Mn', 'Zn', 'Cu', 'NH4']]\n",
        "y = dataset['BIO']\n"
      ]
    },
    {
      "cell_type": "code",
      "source": [
        "# Adding a constant term for the intercept\n",
        "X_const = sm.add_constant(X)\n",
        "\n",
        "# Fitting the ordinary least squares (OLS) model\n",
        "model = sm.OLS(y, X_const).fit()\n",
        "\n",
        "# Model Sumary\n",
        "print(model.summary())"
      ],
      "metadata": {
        "colab": {
          "base_uri": "https://localhost:8080/"
        },
        "id": "BQagc22JhoHX",
        "outputId": "17ec89e0-bb39-47ea-e8a3-3ea88ca8ef6a"
      },
      "execution_count": 102,
      "outputs": [
        {
          "output_type": "stream",
          "name": "stdout",
          "text": [
            "                            OLS Regression Results                            \n",
            "==============================================================================\n",
            "Dep. Variable:                    BIO   R-squared:                       0.823\n",
            "Model:                            OLS   Adj. R-squared:                  0.734\n",
            "Method:                 Least Squares   F-statistic:                     9.270\n",
            "Date:                Thu, 07 Dec 2023   Prob (F-statistic):           4.03e-07\n",
            "Time:                        02:33:48   Log-Likelihood:                -302.70\n",
            "No. Observations:                  43   AIC:                             635.4\n",
            "Df Residuals:                      28   BIC:                             661.8\n",
            "Df Model:                          14                                         \n",
            "Covariance Type:            nonrobust                                         \n",
            "==============================================================================\n",
            "                 coef    std err          t      P>|t|      [0.025      0.975]\n",
            "------------------------------------------------------------------------------\n",
            "const       3475.9507   3441.050      1.010      0.321   -3572.720    1.05e+04\n",
            "H2S            1.1544      3.048      0.379      0.708      -5.089       7.398\n",
            "SAL          -19.2305     26.581     -0.723      0.475     -73.679      35.218\n",
            "Eh7            2.4120      1.964      1.228      0.230      -1.612       6.435\n",
            "pH           149.1615    330.050      0.452      0.655    -526.915     825.238\n",
            "BUF          -19.6909    121.063     -0.163      0.872    -267.676     228.295\n",
            "P             -6.1819      3.854     -1.604      0.120     -14.077       1.713\n",
            "K             -1.0168      0.474     -2.144      0.041      -1.988      -0.045\n",
            "Ca            -0.0657      0.125     -0.524      0.604      -0.323       0.191\n",
            "Mg            -0.3667      0.273     -1.343      0.190      -0.926       0.192\n",
            "Na             0.0100      0.024      0.411      0.684      -0.040       0.060\n",
            "Mn            -3.6814      5.513     -0.668      0.510     -14.975       7.612\n",
            "Zn            -8.0818     21.989     -0.368      0.716     -53.125      36.961\n",
            "Cu           373.8948    110.351      3.388      0.002     147.852     599.938\n",
            "NH4           -1.5510      3.219     -0.482      0.634      -8.145       5.043\n",
            "==============================================================================\n",
            "Omnibus:                       10.120   Durbin-Watson:                   1.791\n",
            "Prob(Omnibus):                  0.006   Jarque-Bera (JB):               14.888\n",
            "Skew:                           0.602   Prob(JB):                     0.000585\n",
            "Kurtosis:                       5.619   Cond. No.                     1.22e+06\n",
            "==============================================================================\n",
            "\n",
            "Notes:\n",
            "[1] Standard Errors assume that the covariance matrix of the errors is correctly specified.\n",
            "[2] The condition number is large, 1.22e+06. This might indicate that there are\n",
            "strong multicollinearity or other numerical problems.\n"
          ]
        }
      ]
    },
    {
      "cell_type": "code",
      "source": [
        "vif_data = pd.DataFrame()\n",
        "vif_data[\"Variable\"] = X.columns\n",
        "vif_data[\"VIF\"] = [variance_inflation_factor(X.values, i) for i in range(X.shape[1])]\n",
        "print(\"Variance Inflation Factor (VIF):\")\n",
        "print(vif_data)\n",
        "\n",
        "# Checking high VIF values\n",
        "high_vif_variables = vif_data[vif_data[\"VIF\"] > 5][\"Variable\"].tolist()\n",
        "if high_vif_variables:\n",
        "    print(f\"\\n High VIF values detected for variables: {', '.join(high_vif_variables)}\")\n",
        "\n",
        "# Checking for condition number\n",
        "condition_number = np.linalg.cond(X.values)\n",
        "print(f\"\\nCondition Number: {condition_number}\")\n",
        "\n",
        "# Checking for a high condition number\n",
        "if condition_number > 30:\n",
        "    print(\"\\nHigh condition number detected. Possiblty of multicollinearity.\")"
      ],
      "metadata": {
        "colab": {
          "base_uri": "https://localhost:8080/"
        },
        "id": "qJCxokOKecj6",
        "outputId": "14a90bc0-4b36-41e1-ea3a-318e52a9a9b1"
      },
      "execution_count": 103,
      "outputs": [
        {
          "output_type": "stream",
          "name": "stdout",
          "text": [
            "Variance Inflation Factor (VIF):\n",
            "   Variable         VIF\n",
            "0       H2S  540.841903\n",
            "1       SAL  132.939848\n",
            "2       Eh7  132.556078\n",
            "3        pH  264.512175\n",
            "4       BUF   69.232763\n",
            "5         P    7.862896\n",
            "6         K   54.884722\n",
            "7        Ca   24.330203\n",
            "8        Mg  267.346959\n",
            "9        Na   66.956290\n",
            "10       Mn   11.662141\n",
            "11       Zn   67.820281\n",
            "12       Cu   73.925004\n",
            "13      NH4   31.573602\n",
            "\n",
            " High VIF values detected for variables: H2S, SAL, Eh7, pH, BUF, P, K, Ca, Mg, Na, Mn, Zn, Cu, NH4\n",
            "\n",
            "Condition Number: 68358.41938487656\n",
            "\n",
            "High condition number detected. Possiblty of multicollinearity.\n"
          ]
        }
      ]
    },
    {
      "cell_type": "markdown",
      "source": [
        "Part B"
      ],
      "metadata": {
        "id": "1A7bkUAtezaZ"
      }
    },
    {
      "cell_type": "code",
      "source": [
        "import statsmodels.api as sm\n",
        "from sklearn.decomposition import PCA\n",
        "from sklearn.preprocessing import StandardScaler\n",
        "# Standardize the predictors\n",
        "scaler = StandardScaler()\n",
        "X_scaled = scaler.fit_transform(X)\n",
        "\n",
        "# PCA\n",
        "pca = PCA()\n",
        "X_pca = pca.fit_transform(X_scaled)\n",
        "\n",
        "cumulative_var_ratio = np.cumsum(pca.explained_variance_ratio_)\n",
        "num_components = np.argmax(cumulative_var_ratio >= 0.95) + 1\n",
        "\n",
        "X_selected = X_pca[:, :num_components]\n",
        "X_selected = sm.add_constant(X_selected)\n",
        "\n",
        "# Fitting (OLS) model\n",
        "model_pcr = sm.OLS(y, X_selected).fit()\n",
        "print(model_pcr.summary())\n",
        "\n",
        "# Extract the principal component loadings\n",
        "l = pca.components_[:num_components, :].T\n",
        "se_pcr = model_pcr.bse[1:]\n",
        "\n",
        "# Compute standard errors in the original model\n",
        "se = se_pcr * np.sqrt(np.sum(l**2, axis=0))\n",
        "\n",
        "# Print the results\n",
        "print(\"\\nStandard Errors in the Original Model:\")\n",
        "print(se)\n",
        "\n",
        "# Compare SSE with Part I\n",
        "sse_pcr = np.sum(model_pcr.resid**2)\n",
        "print(f\"\\nSum of Squared Errors (SSE) in PCR Model: {sse_pcr}\")\n",
        "\n",
        "# Assuming 'model' is the OLS model from Part I\n",
        "sse_ols = np.sum(model.resid**2)\n",
        "print(f\"Sum of Squared Errors (SSE) in Part I: {sse_ols}\")"
      ],
      "metadata": {
        "colab": {
          "base_uri": "https://localhost:8080/"
        },
        "id": "X1OA10elecgz",
        "outputId": "f6d0559e-5d46-43c1-8e22-6e4ef5336e9e"
      },
      "execution_count": 104,
      "outputs": [
        {
          "output_type": "stream",
          "name": "stdout",
          "text": [
            "                            OLS Regression Results                            \n",
            "==============================================================================\n",
            "Dep. Variable:                    BIO   R-squared:                       0.747\n",
            "Model:                            OLS   Adj. R-squared:                  0.687\n",
            "Method:                 Least Squares   F-statistic:                     12.55\n",
            "Date:                Thu, 07 Dec 2023   Prob (F-statistic):           3.58e-08\n",
            "Time:                        02:33:51   Log-Likelihood:                -310.32\n",
            "No. Observations:                  43   AIC:                             638.6\n",
            "Df Residuals:                      34   BIC:                             654.5\n",
            "Df Model:                           8                                         \n",
            "Covariance Type:            nonrobust                                         \n",
            "==============================================================================\n",
            "                 coef    std err          t      P>|t|      [0.025      0.975]\n",
            "------------------------------------------------------------------------------\n",
            "const        991.7209     56.525     17.545      0.000     876.847    1106.594\n",
            "x1           211.7561     24.855      8.520      0.000     161.246     262.267\n",
            "x2           -79.7898     29.430     -2.711      0.010    -139.599     -19.980\n",
            "x3          -105.9213     44.526     -2.379      0.023    -196.410     -15.433\n",
            "x4           118.5306     50.912      2.328      0.026      15.064     221.997\n",
            "x5           -65.1063     67.943     -0.958      0.345    -203.183      72.970\n",
            "x6            -0.2428     80.564     -0.003      0.998    -163.968     163.482\n",
            "x7           263.5300     91.874      2.868      0.007      76.819     450.241\n",
            "x8           -52.8079    110.546     -0.478      0.636    -277.464     171.849\n",
            "==============================================================================\n",
            "Omnibus:                       10.353   Durbin-Watson:                   1.319\n",
            "Prob(Omnibus):                  0.006   Jarque-Bera (JB):                9.712\n",
            "Skew:                           1.017   Prob(JB):                      0.00778\n",
            "Kurtosis:                       4.134   Cond. No.                         4.45\n",
            "==============================================================================\n",
            "\n",
            "Notes:\n",
            "[1] Standard Errors assume that the covariance matrix of the errors is correctly specified.\n",
            "\n",
            "Standard Errors in the Original Model:\n",
            "x1     24.854520\n",
            "x2     29.430315\n",
            "x3     44.526356\n",
            "x4     50.912355\n",
            "x5     67.942904\n",
            "x6     80.563640\n",
            "x7     91.874291\n",
            "x8    110.545942\n",
            "dtype: float64\n",
            "\n",
            "Sum of Squared Errors (SSE) in PCR Model: 4671275.614573438\n",
            "Sum of Squared Errors (SSE) in Part I: 3276740.280390065\n"
          ]
        }
      ]
    },
    {
      "cell_type": "code",
      "source": [
        "num_components"
      ],
      "metadata": {
        "colab": {
          "base_uri": "https://localhost:8080/"
        },
        "id": "-GDRFiPnAXC2",
        "outputId": "56ecbe60-1d9f-43d1-b2c7-cbfcfe909ec7"
      },
      "execution_count": 105,
      "outputs": [
        {
          "output_type": "execute_result",
          "data": {
            "text/plain": [
              "8"
            ]
          },
          "metadata": {},
          "execution_count": 105
        }
      ]
    },
    {
      "cell_type": "markdown",
      "source": [
        "Part C"
      ],
      "metadata": {
        "id": "y574MtWsMWHF"
      }
    },
    {
      "cell_type": "markdown",
      "source": [
        "1."
      ],
      "metadata": {
        "id": "cKF6qxMlMogW"
      }
    },
    {
      "cell_type": "code",
      "source": [
        "from mlxtend.feature_selection import SequentialFeatureSelector\n",
        "from sklearn.linear_model import LinearRegression\n",
        "from sklearn.model_selection import train_test_split\n",
        "import pandas as pd\n",
        "\n",
        "\n",
        "X = data[['SAL', 'pH', 'K', 'Na', 'Zn']]\n",
        "y = data['BIO']\n",
        "X_train, X_test, y_train, y_test = train_test_split(X, y, test_size=0.2, random_state=15)\n",
        "\n",
        "\n",
        "model = LinearRegression()\n",
        "sfs = SequentialFeatureSelector(model, forward=True, k_features='best', scoring='r2', cv=5)\n",
        "sfs.fit(X_train, y_train)\n",
        "\n",
        "# Selected feature indices\n",
        "selected_indices = list(sfs.k_feature_idx_)\n",
        "\n",
        "# Display the result and regression summary at each step\n",
        "for step in range(1, len(selected_indices) + 1):\n",
        "    included_feature = X.columns[selected_indices[step - 1]]\n",
        "    print(f\"\\nStep {step}: {included_feature} added to the model\")\n",
        "\n",
        "    # Fit the model with the selected features\n",
        "    partial_model = LinearRegression().fit(X_train.iloc[:, selected_indices[:step]], y_train)\n",
        "\n",
        "    # Display the regression summary\n",
        "    print(\"\\nPartial Model Summary:\")\n",
        "    print(pd.DataFrame({'Variable': X.columns[selected_indices[:step]], 'Coefficient': partial_model.coef_}))\n",
        "    print(f\"R-squared on the training set: {partial_model.score(X_train.iloc[:, selected_indices[:step]], y_train)}\")\n",
        "\n",
        "# Fit the final model with the selected features\n",
        "final_model = LinearRegression().fit(X_train.iloc[:, selected_indices], y_train)\n",
        "\n",
        "# Display the coefficients of the final model\n",
        "print(\"\\nCoefficients after Stepwise Regression:\")\n",
        "print(pd.DataFrame({'Variable': X.columns[selected_indices], 'Coefficient': final_model.coef_}))\n",
        "\n",
        "# Evaluate the final model on the test set\n",
        "final_model_score = final_model.score(X_test.iloc[:, selected_indices], y_test)\n",
        "print(f\"\\nR-squared on the test set for the final model: {final_model_score}\")\n"
      ],
      "metadata": {
        "colab": {
          "base_uri": "https://localhost:8080/"
        },
        "id": "Nvj3H4wb9MeY",
        "outputId": "041faead-0bc1-4b34-a175-ae527b154f08"
      },
      "execution_count": 106,
      "outputs": [
        {
          "output_type": "stream",
          "name": "stdout",
          "text": [
            "\n",
            "Step 1: pH added to the model\n",
            "\n",
            "Partial Model Summary:\n",
            "  Variable  Coefficient\n",
            "0       pH   362.664982\n",
            "R-squared on the training set: 0.47824436495643585\n",
            "\n",
            "Step 2: Na added to the model\n",
            "\n",
            "Partial Model Summary:\n",
            "  Variable  Coefficient\n",
            "0       pH   371.835420\n",
            "1       Na    -0.020561\n",
            "R-squared on the training set: 0.5366045317617536\n",
            "\n",
            "Coefficients after Stepwise Regression:\n",
            "  Variable  Coefficient\n",
            "0       pH   371.835420\n",
            "1       Na    -0.020561\n",
            "\n",
            "R-squared on the test set for the final model: 0.8678878926209593\n"
          ]
        }
      ]
    },
    {
      "cell_type": "code",
      "source": [
        "from statsmodels.stats.outliers_influence import variance_inflation_factor\n",
        "\n",
        "# Function to calculate VIF\n",
        "def calculate_vif(data_frame):\n",
        "    vif_data = pd.DataFrame()\n",
        "    vif_data[\"Variable\"] = data_frame.columns\n",
        "    vif_data[\"VIF\"] = [variance_inflation_factor(data_frame.values, i) for i in range(data_frame.shape[1])]\n",
        "    return vif_data\n",
        "\n",
        "# Display VIF for the final selected features\n",
        "vif_final_model = calculate_vif(X_train.iloc[:, selected_indices])\n",
        "print(\"\\nVIF Values for the Final Model:\")\n",
        "print(vif_final_model)\n",
        "\n",
        "# Check if there is significant multicollinearity\n",
        "if all(vif_final_model[\"VIF\"] < 10):\n",
        "    print(\"\\nThere is no significant multicollinearity in the final model.\")\n",
        "else:\n",
        "    print(\"\\nMulticollinearity is present in the final model. Consider further investigation.\")\n"
      ],
      "metadata": {
        "colab": {
          "base_uri": "https://localhost:8080/"
        },
        "id": "GVBs9MPU96fv",
        "outputId": "5a0dd9b0-a4ca-4c1f-e9bc-e66ee2b4693e"
      },
      "execution_count": 107,
      "outputs": [
        {
          "output_type": "stream",
          "name": "stdout",
          "text": [
            "\n",
            "VIF Values for the Final Model:\n",
            "  Variable       VIF\n",
            "0       pH  5.392122\n",
            "1       Na  5.392122\n",
            "\n",
            "There is no significant multicollinearity in the final model.\n"
          ]
        }
      ]
    },
    {
      "cell_type": "markdown",
      "source": [
        "2."
      ],
      "metadata": {
        "id": "gEp9U_xzMtRY"
      }
    },
    {
      "cell_type": "code",
      "source": [
        "import pandas as pd\n",
        "import numpy as np\n",
        "from sklearn.linear_model import RidgeCV\n",
        "from sklearn.preprocessing import StandardScaler\n",
        "from statsmodels.stats.outliers_influence import variance_inflation_factor\n",
        "import matplotlib.pyplot as plt\n",
        "\n",
        "\n",
        "X = dataset_2[['SAL', 'pH', 'K', 'Na', 'Zn']]\n",
        "y = dataset_2['BIO']\n",
        "coefficients = []\n",
        "\n",
        "scaler = StandardScaler()\n",
        "X_scaled = scaler.fit_transform(X)\n",
        "\n",
        "\n",
        "alphas = np.logspace(-6, 6, 13)\n",
        "ridge_cv = RidgeCV(alphas=alphas, store_cv_values=True)\n",
        "ridge_cv.fit(X_scaled, y)\n",
        "\n",
        "\n",
        "selected_alpha = ridge_cv.alpha_\n",
        "cv_mse = np.mean(ridge_cv.cv_values_, axis=0)\n",
        "ridge_trace = pd.DataFrame({'Alpha': alphas, 'CV_MSE': cv_mse})\n",
        "print(\"Ridge Trace:\")\n",
        "print(ridge_trace)\n",
        "print(\"\\nAlpha Selected:\", selected_alpha)\n",
        "\n",
        "# Fitting Ridge model with the selected alpha\n",
        "final_ridge_model = RidgeCV(alphas=[selected_alpha])\n",
        "final_ridge_model.fit(X_scaled, y)\n",
        "\n",
        "# Print coefficients of the final Ridge model\n",
        "print(\"\\nCoefficients after Ridge Regression:\")\n",
        "print(final_ridge_model.coef_)\n",
        "\n",
        "# Perform collinearity diagnostics\n",
        "vif_data = pd.DataFrame()\n",
        "vif_data[\"Variable\"] = X.columns\n",
        "vif_data[\"VIF\"] = [variance_inflation_factor(X_scaled, i) for i in range(X_scaled.shape[1])]\n",
        "print(vif_data)\n",
        "\n",
        "threshold = 10\n",
        "if vif_data[\"VIF\"].max() < threshold:\n",
        "    print(\"\\nThere is no significant multicollinearity, and collinearity has disappeared.\")\n",
        "else:\n",
        "    print(\"\\nThere is potential multicollinearity in the model.\")\n",
        "\n",
        "for alpha in alphas:\n",
        "    ridge_model = RidgeCV(alphas=[alpha], store_cv_values=True)\n",
        "    ridge_model.fit(X_scaled, y)\n",
        "    coefficients.append(ridge_model.coef_)\n",
        "\n",
        "coefficients = np.array(coefficients)\n",
        "\n",
        "# Plot log(alpha) versus Ridge regression coefficients\n",
        "plt.figure(figsize=(10, 6))\n",
        "for i in range(X.shape[1]):\n",
        "    plt.plot(np.log10(alphas), coefficients[:, i], label=f'{X.columns[i]}')\n",
        "\n",
        "plt.xlabel('log(alpha)')\n",
        "plt.ylabel('Ridge Coefficient Value')\n",
        "plt.title('log(alpha) vs Ridge Regression Coefficients')\n",
        "plt.legend()\n",
        "plt.show()"
      ],
      "metadata": {
        "colab": {
          "base_uri": "https://localhost:8080/",
          "height": 1000
        },
        "id": "oY246LLOeca-",
        "outputId": "04e58fca-778c-4c34-d3d9-21f93e0dadc2"
      },
      "execution_count": 108,
      "outputs": [
        {
          "output_type": "stream",
          "name": "stdout",
          "text": [
            "Ridge Trace:\n",
            "             Alpha         CV_MSE\n",
            "0         0.000001  184039.533707\n",
            "1         0.000010  184039.506122\n",
            "2         0.000100  184039.230279\n",
            "3         0.001000  184036.472578\n",
            "4         0.010000  184008.967802\n",
            "5         0.100000  183740.944616\n",
            "6         1.000000  181613.423435\n",
            "7        10.000000  178600.163499\n",
            "8       100.000000  272801.058463\n",
            "9      1000.000000  416737.992603\n",
            "10    10000.000000  446451.321466\n",
            "11   100000.000000  449719.685767\n",
            "12  1000000.000000  450049.764103\n",
            "\n",
            "Alpha Selected: 10.0\n",
            "\n",
            "Coefficients after Ridge Regression:\n",
            "[ -88.782382    298.9606666   -60.86999177  -63.95162596 -182.67008386]\n",
            "  Variable       VIF\n",
            "0      SAL  2.099364\n",
            "1       pH  3.327339\n",
            "2        K  2.982513\n",
            "3       Na  3.311625\n",
            "4       Zn  4.309322\n",
            "\n",
            "There is no significant multicollinearity, and collinearity has disappeared.\n"
          ]
        },
        {
          "output_type": "display_data",
          "data": {
            "text/plain": [
              "<Figure size 1000x600 with 1 Axes>"
            ],
            "image/png": "[encoded data removed]"
          },
          "metadata": {}
        }
      ]
    },
    {
      "cell_type": "code",
      "source": [],
      "metadata": {
        "id": "KwAi5sl96Lgw"
      },
      "execution_count": null,
      "outputs": []
    },
    {
      "cell_type": "markdown",
      "source": [
        "3."
      ],
      "metadata": {
        "id": "8llnBUBXNQz7"
      }
    },
    {
      "cell_type": "code",
      "source": [
        "from sklearn.linear_model import LinearRegression\n",
        "from itertools import combinations\n",
        "from statsmodels.stats.outliers_influence import variance_inflation_factor\n",
        "\n",
        "# Extract predictor variables (X) and response variable (Y)\n",
        "X_part3 = dataset_2[['SAL', 'pH', 'K', 'Na', 'Zn']]\n",
        "Y_part3 = dataset_2['BIO']\n",
        "\n",
        "# BIC\n",
        "def calculate_bic(X, Y, features):\n",
        "    model = sm.OLS(Y, sm.add_constant(X[features])).fit()\n",
        "    n = len(Y)\n",
        "    k = len(features) + 1  # Including the intercept term\n",
        "    bic = n * np.log(model.mse_resid) + k * np.log(n)\n",
        "    return bic\n",
        "\n",
        "# Performing subset selection\n",
        "def subset_selection(X, Y, max_features=2):\n",
        "    af = X.columns\n",
        "    best_bic = float('inf')\n",
        "    best_feature_subset = None\n",
        "\n",
        "    for r in range(1, max_features + 1):\n",
        "        for subset in combinations(af, r):\n",
        "            bic = calculate_bic(X, Y, list(subset))\n",
        "            if bic < best_bic:\n",
        "                best_bic = bic\n",
        "                best_feature_subset = subset\n",
        "\n",
        "    return list(best_feature_subset)\n",
        "\n",
        "\n",
        "selected_features_subset = subset_selection(X_part3, Y_part3, max_features=2)\n",
        "print(\"Selected Features (Subset Selection):\", selected_features_subset)\n",
        "\n",
        "# Check VIF for the selected features\n",
        "selected_features_vif = sm.add_constant(X_part3[selected_features_subset])\n",
        "vif = pd.DataFrame()\n",
        "vif[\"Variable\"] = selected_features_vif.columns\n",
        "vif[\"VIF\"] = [variance_inflation_factor(selected_features_vif.values, i) for i in range(selected_features_vif.shape[1])]\n",
        "\n",
        "# Display VIF values\n",
        "print(\"VIF Values:\")\n",
        "print(vif)"
      ],
      "metadata": {
        "id": "km4dx78XecQS",
        "colab": {
          "base_uri": "https://localhost:8080/"
        },
        "outputId": "1d5d9345-d5c4-4623-f461-d8ca42fce861"
      },
      "execution_count": 114,
      "outputs": [
        {
          "output_type": "stream",
          "name": "stdout",
          "text": [
            "Selected Features (Subset Selection): ['pH', 'Na']\n",
            "VIF Values:\n",
            "  Variable        VIF\n",
            "0    const  20.746465\n",
            "1       pH   1.000558\n",
            "2       Na   1.000558\n"
          ]
        }
      ]
    },
    {
      "cell_type": "code",
      "source": [
        "model.summary()"
      ],
      "metadata": {
        "colab": {
          "base_uri": "https://localhost:8080/",
          "height": 508
        },
        "id": "M_EpsZ1zKDJq",
        "outputId": "23f260de-7746-4303-9acd-4b272f2d66be"
      },
      "execution_count": 115,
      "outputs": [
        {
          "output_type": "execute_result",
          "data": {
            "text/plain": [
              "<class 'statsmodels.iolib.summary.Summary'>\n",
              "\"\"\"\n",
              "                            OLS Regression Results                            \n",
              "==============================================================================\n",
              "Dep. Variable:                    BIO   R-squared:                       0.440\n",
              "Model:                            OLS   Adj. R-squared:                  0.412\n",
              "Method:                 Least Squares   F-statistic:                     15.74\n",
              "Date:                Thu, 07 Dec 2023   Prob (F-statistic):           9.07e-06\n",
              "Time:                        02:43:18   Log-Likelihood:                -327.39\n",
              "No. Observations:                  43   AIC:                             660.8\n",
              "Df Residuals:                      40   BIC:                             666.1\n",
              "Df Model:                           2                                         \n",
              "Covariance Type:            nonrobust                                         \n",
              "==============================================================================\n",
              "                 coef    std err          t      P>|t|      [0.025      0.975]\n",
              "------------------------------------------------------------------------------\n",
              "const       2139.2998    248.072      8.624      0.000    1637.927    2640.673\n",
              "Na            -0.0173      0.011     -1.535      0.133      -0.040       0.005\n",
              "Zn           -48.3377      9.351     -5.170      0.000     -67.236     -29.440\n",
              "==============================================================================\n",
              "Omnibus:                        5.749   Durbin-Watson:                   0.844\n",
              "Prob(Omnibus):                  0.056   Jarque-Bera (JB):                4.759\n",
              "Skew:                           0.798   Prob(JB):                       0.0926\n",
              "Kurtosis:                       3.331   Cond. No.                     5.79e+04\n",
              "==============================================================================\n",
              "\n",
              "Notes:\n",
              "[1] Standard Errors assume that the covariance matrix of the errors is correctly specified.\n",
              "[2] The condition number is large, 5.79e+04. This might indicate that there are\n",
              "strong multicollinearity or other numerical problems.\n",
              "\"\"\""
            ],
            "text/html": [
              "<table class=\"simpletable\">\n",
              "<caption>OLS Regression Results</caption>\n",
              "<tr>\n",
              "  <th>Dep. Variable:</th>           <td>BIO</td>       <th>  R-squared:         </th> <td>   0.440</td>\n",
              "</tr>\n",
              "<tr>\n",
              "  <th>Model:</th>                   <td>OLS</td>       <th>  Adj. R-squared:    </th> <td>   0.412</td>\n",
              "</tr>\n",
              "<tr>\n",
              "  <th>Method:</th>             <td>Least Squares</td>  <th>  F-statistic:       </th> <td>   15.74</td>\n",
              "</tr>\n",
              "<tr>\n",
              "  <th>Date:</th>             <td>Thu, 07 Dec 2023</td> <th>  Prob (F-statistic):</th> <td>9.07e-06</td>\n",
              "</tr>\n",
              "<tr>\n",
              "  <th>Time:</th>                 <td>02:43:18</td>     <th>  Log-Likelihood:    </th> <td> -327.39</td>\n",
              "</tr>\n",
              "<tr>\n",
              "  <th>No. Observations:</th>      <td>    43</td>      <th>  AIC:               </th> <td>   660.8</td>\n",
              "</tr>\n",
              "<tr>\n",
              "  <th>Df Residuals:</th>          <td>    40</td>      <th>  BIC:               </th> <td>   666.1</td>\n",
              "</tr>\n",
              "<tr>\n",
              "  <th>Df Model:</th>              <td>     2</td>      <th>                     </th>     <td> </td>   \n",
              "</tr>\n",
              "<tr>\n",
              "  <th>Covariance Type:</th>      <td>nonrobust</td>    <th>                     </th>     <td> </td>   \n",
              "</tr>\n",
              "</table>\n",
              "<table class=\"simpletable\">\n",
              "<tr>\n",
              "    <td></td>       <th>coef</th>     <th>std err</th>      <th>t</th>      <th>P>|t|</th>  <th>[0.025</th>    <th>0.975]</th>  \n",
              "</tr>\n",
              "<tr>\n",
              "  <th>const</th> <td> 2139.2998</td> <td>  248.072</td> <td>    8.624</td> <td> 0.000</td> <td> 1637.927</td> <td> 2640.673</td>\n",
              "</tr>\n",
              "<tr>\n",
              "  <th>Na</th>    <td>   -0.0173</td> <td>    0.011</td> <td>   -1.535</td> <td> 0.133</td> <td>   -0.040</td> <td>    0.005</td>\n",
              "</tr>\n",
              "<tr>\n",
              "  <th>Zn</th>    <td>  -48.3377</td> <td>    9.351</td> <td>   -5.170</td> <td> 0.000</td> <td>  -67.236</td> <td>  -29.440</td>\n",
              "</tr>\n",
              "</table>\n",
              "<table class=\"simpletable\">\n",
              "<tr>\n",
              "  <th>Omnibus:</th>       <td> 5.749</td> <th>  Durbin-Watson:     </th> <td>   0.844</td>\n",
              "</tr>\n",
              "<tr>\n",
              "  <th>Prob(Omnibus):</th> <td> 0.056</td> <th>  Jarque-Bera (JB):  </th> <td>   4.759</td>\n",
              "</tr>\n",
              "<tr>\n",
              "  <th>Skew:</th>          <td> 0.798</td> <th>  Prob(JB):          </th> <td>  0.0926</td>\n",
              "</tr>\n",
              "<tr>\n",
              "  <th>Kurtosis:</th>      <td> 3.331</td> <th>  Cond. No.          </th> <td>5.79e+04</td>\n",
              "</tr>\n",
              "</table><br/><br/>Notes:<br/>[1] Standard Errors assume that the covariance matrix of the errors is correctly specified.<br/>[2] The condition number is large, 5.79e+04. This might indicate that there are<br/>strong multicollinearity or other numerical problems."
            ],
            "text/latex": "\\begin{center}\n\\begin{tabular}{lclc}\n\\toprule\n\\textbf{Dep. Variable:}    &       BIO        & \\textbf{  R-squared:         } &     0.440   \\\\\n\\textbf{Model:}            &       OLS        & \\textbf{  Adj. R-squared:    } &     0.412   \\\\\n\\textbf{Method:}           &  Least Squares   & \\textbf{  F-statistic:       } &     15.74   \\\\\n\\textbf{Date:}             & Thu, 07 Dec 2023 & \\textbf{  Prob (F-statistic):} &  9.07e-06   \\\\\n\\textbf{Time:}             &     02:43:18     & \\textbf{  Log-Likelihood:    } &   -327.39   \\\\\n\\textbf{No. Observations:} &          43      & \\textbf{  AIC:               } &     660.8   \\\\\n\\textbf{Df Residuals:}     &          40      & \\textbf{  BIC:               } &     666.1   \\\\\n\\textbf{Df Model:}         &           2      & \\textbf{                     } &             \\\\\n\\textbf{Covariance Type:}  &    nonrobust     & \\textbf{                     } &             \\\\\n\\bottomrule\n\\end{tabular}\n\\begin{tabular}{lcccccc}\n               & \\textbf{coef} & \\textbf{std err} & \\textbf{t} & \\textbf{P$> |$t$|$} & \\textbf{[0.025} & \\textbf{0.975]}  \\\\\n\\midrule\n\\textbf{const} &    2139.2998  &      248.072     &     8.624  &         0.000        &     1637.927    &     2640.673     \\\\\n\\textbf{Na}    &      -0.0173  &        0.011     &    -1.535  &         0.133        &       -0.040    &        0.005     \\\\\n\\textbf{Zn}    &     -48.3377  &        9.351     &    -5.170  &         0.000        &      -67.236    &      -29.440     \\\\\n\\bottomrule\n\\end{tabular}\n\\begin{tabular}{lclc}\n\\textbf{Omnibus:}       &  5.749 & \\textbf{  Durbin-Watson:     } &    0.844  \\\\\n\\textbf{Prob(Omnibus):} &  0.056 & \\textbf{  Jarque-Bera (JB):  } &    4.759  \\\\\n\\textbf{Skew:}          &  0.798 & \\textbf{  Prob(JB):          } &   0.0926  \\\\\n\\textbf{Kurtosis:}      &  3.331 & \\textbf{  Cond. No.          } & 5.79e+04  \\\\\n\\bottomrule\n\\end{tabular}\n%\\caption{OLS Regression Results}\n\\end{center}\n\nNotes: \\newline\n [1] Standard Errors assume that the covariance matrix of the errors is correctly specified. \\newline\n [2] The condition number is large, 5.79e+04. This might indicate that there are \\newline\n strong multicollinearity or other numerical problems."
          },
          "metadata": {},
          "execution_count": 115
        }
      ]
    }
  ]
}